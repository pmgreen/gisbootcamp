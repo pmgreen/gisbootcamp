{
 "cells": [
  {
   "cell_type": "markdown",
   "metadata": {},
   "source": [
    "<span style=\"background-color: red;\">-</span> <span style=\"color:#666;background-color: lightyellow;font-size: 1.5em;\">This is a simple <b>proof-of-conncept notebook</b>, based on a broken (as of May 2025) [ESRI sample notebook](https://developers.arcgis.com/python/latest/samples/) -- the data it referred to no longer exists (or was renamed) and the code needs to be modified throughout. This means it can be taken as a learning opportunity without expecting perfection. AI can provide clues but is often cheerfully mistaken and isn't a quick fix.</span><br />\n",
    "<span style=\"background-color: red;\">-</span> <span style=\"color:#666;background-color: lightyellow;font-size: 1.5em;\"><b>Highlighted annotations</b> are comments or modifications that worked using the `arcgispro-py3` kernel and <b>ArcGIS Pro 3.5 in May 2025</b>.</span><br /><span style=\"background-color: red;\">-</span> <span style=\"color:#666;background-color: lightyellow;font-size: 1.5em;\">The workflow concept being tested here is that <b>ArcGIS Pro can be used to create and analyze features locally</b> thus saving on ESRI _credits_ and affording flexibility for free experimentation. Analyses done in Pro could then be pushed to AGOL and/or to a server.</span>"
   ]
  },
  {
   "cell_type": "markdown",
   "metadata": {},
   "source": [
    "# Historical Wildfire Analysis\n",
    "\n",
    "\n",
    "Spatial wildfire occurrence data, referred to as the **Fire Program Analysis fire-occurrence database (FPA FOD)**, for the United States, 1992-2015 was obtained from https://www.fs.usda.gov/rds/archive/Product/RDS-2013-0009.4/. The dataset contains data on:\n",
    "* 1.88 Million US Wildfires\n",
    "* 24 years of geo-referenced wildfire records"
   ]
  },
  {
   "cell_type": "markdown",
   "metadata": {
    "toc": true
   },
   "source": [
    "<h1>Table of Contents<span class=\"tocSkip\"></span></h1>\n",
    "<div class=\"toc\"><ul class=\"toc-item\"><li><span><a href=\"#Historical-Wildfire-Analysis\" data-toc-modified-id=\"Historical-Wildfire-Analysis-1\"><span class=\"toc-item-num\">1&nbsp;&nbsp;</span>Historical Wildfire Analysis</a></span><ul class=\"toc-item\"><li><ul class=\"toc-item\"><li><span><a href=\"#Given-this-data,-can-we-answer-the-following-questions?\" data-toc-modified-id=\"Given-this-data,-can-we-answer-the-following-questions?-1.0.1\"><span class=\"toc-item-num\">1.0.1&nbsp;&nbsp;</span>Given this data, can we answer the following questions?</a></span></li><li><span><a href=\"#Exploratory-Data-Analysis\" data-toc-modified-id=\"Exploratory-Data-Analysis-1.0.2\"><span class=\"toc-item-num\">1.0.2&nbsp;&nbsp;</span>Exploratory Data Analysis</a></span></li><li><span><a href=\"#Have-wildfires-become-more-frequent-over-time?\" data-toc-modified-id=\"Have-wildfires-become-more-frequent-over-time?-1.0.3\"><span class=\"toc-item-num\">1.0.3&nbsp;&nbsp;</span>Have wildfires become more frequent over time?</a></span></li><li><span><a href=\"#What-are-the-causes-of-wildfire?\" data-toc-modified-id=\"What-are-the-causes-of-wildfire?-1.0.4\"><span class=\"toc-item-num\">1.0.4&nbsp;&nbsp;</span>What are the causes of wildfire?</a></span></li><li><span><a href=\"#Does-the-day-of-week-matter?\" data-toc-modified-id=\"Does-the-day-of-week-matter?-1.0.5\"><span class=\"toc-item-num\">1.0.5&nbsp;&nbsp;</span>Does the day of week matter?</a></span></li></ul></li><li><span><a href=\"#Mapping-and-Spatial-Analysis\" data-toc-modified-id=\"Mapping-and-Spatial-Analysis-1.1\"><span class=\"toc-item-num\">1.1&nbsp;&nbsp;</span>Mapping and Spatial Analysis</a></span></li><li><span><a href=\"#Can-Machine-Learning-categorize-the-cause-of-the-fire?\" data-toc-modified-id=\"Can-Machine-Learning-categorize-the-cause-of-the-fire?-1.2\"><span class=\"toc-item-num\">1.2&nbsp;&nbsp;</span>Can Machine Learning categorize the cause of the fire?</a></span><ul class=\"toc-item\"><li><span><a href=\"#Feature-Engineering:-Use-geoenrichment-to-add-features\" data-toc-modified-id=\"Feature-Engineering:-Use-geoenrichment-to-add-features-1.2.1\"><span class=\"toc-item-num\">1.2.1&nbsp;&nbsp;</span>Feature Engineering: Use geoenrichment to add features</a></span></li><li><span><a href=\"#Fit-Random-Forest-classifier-and-check-accuracy\" data-toc-modified-id=\"Fit-Random-Forest-classifier-and-check-accuracy-1.2.2\"><span class=\"toc-item-num\">1.2.2&nbsp;&nbsp;</span>Fit Random Forest classifier and check accuracy</a></span></li></ul></li></ul></li></ul></div>"
   ]
  },
  {
   "cell_type": "markdown",
   "metadata": {},
   "source": [
    "## Given this data, can we answer the following questions?\n",
    "* **Are wildfires increasing over time?**\n",
    "* **Where are the fire hot spots?**\n",
    "* **Can Machine Learning categorize the cause of the fire given the size, location and date?**\n",
    "\n",
    "That would give investigators a data driven way to prioritize cases for further investigation."
   ]
  },
  {
   "cell_type": "markdown",
   "metadata": {},
   "source": [
    "<span style=\"background-color: red;\">-</span> <span style=\"color:#666;background-color: lightyellow;font-size: 1.5em;\">Used `conda` (rather than `pip`) to install arcpy (just once)</span>"
   ]
  },
  {
   "cell_type": "code",
   "execution_count": 2,
   "metadata": {},
   "outputs": [
    {
     "name": "stdout",
     "output_type": "stream",
     "text": [
      "Retrieving notices: done\n",
      "Channels:\n",
      " - esri\n",
      " - defaults\n",
      " - esri-build\n",
      "Platform: win-64\n",
      "Collecting package metadata (repodata.json): ...working... done\n",
      "Solving environment: ...working... done\n",
      "\n",
      "# All requested packages already installed.\n",
      "\n",
      "\n",
      "Note: you may need to restart the kernel to use updated packages.\n"
     ]
    }
   ],
   "source": [
    "conda install -c esri arcpy"
   ]
  },
  {
   "cell_type": "markdown",
   "metadata": {},
   "source": [
    "<span style=\"background-color: red;\">-</span> <span style=\"color:#666;background-color: lightyellow;font-size: 1.5em;\">Manually installed the `scikit-learn` as well (one time)</span>"
   ]
  },
  {
   "cell_type": "code",
   "execution_count": 22,
   "metadata": {
    "scrolled": true
   },
   "outputs": [
    {
     "name": "stdout",
     "output_type": "stream",
     "text": [
      "Channels:\n",
      " - defaults\n",
      " - esri\n",
      " - esri-build\n",
      "Platform: win-64\n",
      "Collecting package metadata (repodata.json): ...working... done\n",
      "Solving environment: ...working... done\n",
      "\n",
      "## Package Plan ##\n",
      "\n",
      "  environment location: C:\\Users\\vboxuser\\AppData\\Local\\ESRI\\conda\\envs\\arcgispro-py3-clone\n",
      "\n",
      "  added / updated specs:\n",
      "    - scikit-learn\n",
      "\n",
      "\n",
      "The following packages will be downloaded:\n",
      "\n",
      "    package                    |            build\n",
      "    ---------------------------|-----------------\n",
      "    joblib-1.4.2               |  py311haa95532_0         531 KB\n",
      "    scikit-learn-1.5.1         |  py311hea22821_0         9.5 MB\n",
      "    threadpoolctl-3.5.0        |  py311h746a85d_0          50 KB\n",
      "    ------------------------------------------------------------\n",
      "                                           Total:        10.1 MB\n",
      "\n",
      "The following NEW packages will be INSTALLED:\n",
      "\n",
      "  ca-certificates    pkgs/main/win-64::ca-certificates-2025.2.25-haa95532_0 \n",
      "  joblib             pkgs/main/win-64::joblib-1.4.2-py311haa95532_0 \n",
      "  scikit-learn       pkgs/main/win-64::scikit-learn-1.5.1-py311hea22821_0 \n",
      "  threadpoolctl      pkgs/main/win-64::threadpoolctl-3.5.0-py311h746a85d_0 \n",
      "\n",
      "The following packages will be SUPERSEDED by a higher-priority channel:\n",
      "\n",
      "  openssl                            esri::openssl-3.0.16-0 --> pkgs/main::openssl-3.0.16-h3f729d1_0 \n",
      "\n",
      "\n",
      "\n",
      "Downloading and Extracting Packages: ...working...\n",
      "scikit-learn-1.5.1   | 9.5 MB    |            |   0% \n",
      "\n",
      "joblib-1.4.2         | 531 KB    |            |   0% \u001b[A\n",
      "\n",
      "\n",
      "threadpoolctl-3.5.0  | 50 KB     |            |   0% \u001b[A\u001b[A\n",
      "scikit-learn-1.5.1   | 9.5 MB    |            |   0% \n",
      "\n",
      "joblib-1.4.2         | 531 KB    | 3          |   3% \u001b[A\n",
      "\n",
      "\n",
      "threadpoolctl-3.5.0  | 50 KB     | ###2       |  32% \u001b[A\u001b[A\n",
      "\n",
      "\n",
      "threadpoolctl-3.5.0  | 50 KB     | ########## | 100% \u001b[A\u001b[A\n",
      "\n",
      "joblib-1.4.2         | 531 KB    | #5         |  15% \u001b[A\n",
      "scikit-learn-1.5.1   | 9.5 MB    |            |   1% \n",
      "\n",
      "\n",
      "threadpoolctl-3.5.0  | 50 KB     | ########## | 100% \u001b[A\u001b[A\n",
      "\n",
      "\n",
      "threadpoolctl-3.5.0  | 50 KB     | ########## | 100% \u001b[A\u001b[A\n",
      "\n",
      "joblib-1.4.2         | 531 KB    | ###9       |  39% \u001b[A\n",
      "scikit-learn-1.5.1   | 9.5 MB    | 2          |   2% \n",
      "\n",
      "joblib-1.4.2         | 531 KB    | #####4     |  54% \u001b[A\n",
      "\n",
      "joblib-1.4.2         | 531 KB    | #######2   |  72% \u001b[A\n",
      "\n",
      "joblib-1.4.2         | 531 KB    | ########## | 100% \u001b[A\n",
      "scikit-learn-1.5.1   | 9.5 MB    | 3          |   3% \n",
      "scikit-learn-1.5.1   | 9.5 MB    | 5          |   5% \n",
      "scikit-learn-1.5.1   | 9.5 MB    | 7          |   7% \n",
      "\n",
      "joblib-1.4.2         | 531 KB    | ########## | 100% \u001b[A\n",
      "\n",
      "joblib-1.4.2         | 531 KB    | ########## | 100% \u001b[A\n",
      "scikit-learn-1.5.1   | 9.5 MB    | 8          |   9% \n",
      "scikit-learn-1.5.1   | 9.5 MB    | #          |  11% \n",
      "scikit-learn-1.5.1   | 9.5 MB    | #2         |  12% \n",
      "scikit-learn-1.5.1   | 9.5 MB    | #3         |  14% \n",
      "scikit-learn-1.5.1   | 9.5 MB    | #5         |  16% \n",
      "scikit-learn-1.5.1   | 9.5 MB    | #8         |  19% \n",
      "scikit-learn-1.5.1   | 9.5 MB    | ##         |  21% \n",
      "scikit-learn-1.5.1   | 9.5 MB    | ##3        |  23% \n",
      "scikit-learn-1.5.1   | 9.5 MB    | ##5        |  26% \n",
      "scikit-learn-1.5.1   | 9.5 MB    | ##8        |  28% \n",
      "scikit-learn-1.5.1   | 9.5 MB    | ###        |  30% \n",
      "scikit-learn-1.5.1   | 9.5 MB    | ###2       |  33% \n",
      "scikit-learn-1.5.1   | 9.5 MB    | ###5       |  36% \n",
      "scikit-learn-1.5.1   | 9.5 MB    | ###7       |  38% \n",
      "scikit-learn-1.5.1   | 9.5 MB    | ####       |  40% \n",
      "scikit-learn-1.5.1   | 9.5 MB    | ####2      |  43% \n",
      "scikit-learn-1.5.1   | 9.5 MB    | ####5      |  46% \n",
      "scikit-learn-1.5.1   | 9.5 MB    | ####8      |  48% \n",
      "scikit-learn-1.5.1   | 9.5 MB    | #####      |  51% \n",
      "scikit-learn-1.5.1   | 9.5 MB    | #####3     |  54% \n",
      "scikit-learn-1.5.1   | 9.5 MB    | #####6     |  56% \n",
      "scikit-learn-1.5.1   | 9.5 MB    | #####8     |  58% \n",
      "scikit-learn-1.5.1   | 9.5 MB    | ######     |  61% \n",
      "scikit-learn-1.5.1   | 9.5 MB    | ######3    |  63% \n",
      "scikit-learn-1.5.1   | 9.5 MB    | ######5    |  65% \n",
      "scikit-learn-1.5.1   | 9.5 MB    | ######7    |  68% \n",
      "scikit-learn-1.5.1   | 9.5 MB    | #######1   |  71% \n",
      "scikit-learn-1.5.1   | 9.5 MB    | #######3   |  74% \n",
      "scikit-learn-1.5.1   | 9.5 MB    | #######6   |  76% \n",
      "scikit-learn-1.5.1   | 9.5 MB    | #######9   |  79% \n",
      "scikit-learn-1.5.1   | 9.5 MB    | ########1  |  81% \n",
      "scikit-learn-1.5.1   | 9.5 MB    | ########7  |  88% \n",
      "scikit-learn-1.5.1   | 9.5 MB    | #########  |  91% \n",
      "scikit-learn-1.5.1   | 9.5 MB    | #########3 |  94% \n",
      "scikit-learn-1.5.1   | 9.5 MB    | #########6 |  96% \n",
      "scikit-learn-1.5.1   | 9.5 MB    | #########9 |  99% \n",
      "scikit-learn-1.5.1   | 9.5 MB    | ########## | 100% \n",
      "scikit-learn-1.5.1   | 9.5 MB    | ########## | 100% \n",
      "                                                     \n",
      "\n",
      "\n",
      "                                                     \u001b[A\n",
      "\n",
      "\n",
      "                                                     \u001b[A\u001b[A done\n",
      "Preparing transaction: done\n",
      "Verifying transaction: done\n",
      "Executing transaction: done\n",
      "\n",
      "Note: you may need to restart the kernel to use updated packages.\n"
     ]
    }
   ],
   "source": [
    "conda install scikit-learn"
   ]
  },
  {
   "cell_type": "code",
   "execution_count": 1,
   "metadata": {
    "scrolled": true
   },
   "outputs": [],
   "source": [
    "from arcgis import *\n",
    "import pandas as pd\n",
    "import numpy as np"
   ]
  },
  {
   "cell_type": "markdown",
   "metadata": {},
   "source": [
    "<span style=\"background-color: red;\">-</span> <span style=\"color:#666;background-color: lightyellow;font-size: 1.5em;\">Installing `arcpy` was necessary as well</span>"
   ]
  },
  {
   "cell_type": "code",
   "execution_count": 2,
   "metadata": {},
   "outputs": [],
   "source": [
    "import arcpy"
   ]
  },
  {
   "cell_type": "markdown",
   "metadata": {},
   "source": [
    "<span style=\"background-color: red;\">-</span> <span style=\"color:#666;background-color: lightyellow;font-size: 1.5em;\">These lines may return an error here about the password not being on file through keyring, but that's ok.</span>"
   ]
  },
  {
   "cell_type": "code",
   "execution_count": 3,
   "metadata": {
    "scrolled": true
   },
   "outputs": [
    {
     "name": "stderr",
     "output_type": "stream",
     "text": [
      "Profile deldev.maps does not have a password on file through keyring. If you are expecting this behavior (PKI or IWA authentication, entering password through run-time prompt, etc.), please ignore this message. If you would like to store your password in the deldev.maps profile, run GIS(profile = 'deldev.maps', password = ...). See the API doc for more details. (https://developers.arcgis.com/python/api-reference/arcgis.gis.toc.html#gis)\n"
     ]
    }
   ],
   "source": [
    "from arcgis.gis import GIS\n",
    "gis = GIS(profile='deldev.maps')"
   ]
  },
  {
   "cell_type": "markdown",
   "metadata": {},
   "source": [
    "<span style=\"background-color: red;\">-</span> <span style=\"color:#666;background-color: lightyellow;font-size: 1.5em;\">The fires data needs to be downloaded from the [URL]( https://www.fs.usda.gov/rds/archive/Product/RDS-2013-0009.4/) given at the top of this notebook and then saved locally</span>"
   ]
  },
  {
   "cell_type": "code",
   "execution_count": 4,
   "metadata": {},
   "outputs": [],
   "source": [
    "from arcgis.features import GeoAccessor, GeoSeriesAccessor\n",
    "\n",
    "wildfires_df = pd.DataFrame.spatial.from_featureclass(r'C:\\demo\\FPA_FOD_20170508.gdb\\Fires')"
   ]
  },
  {
   "cell_type": "code",
   "execution_count": 5,
   "metadata": {},
   "outputs": [
    {
     "data": {
      "text/plain": [
       "(1880465, 39)"
      ]
     },
     "execution_count": 5,
     "metadata": {},
     "output_type": "execute_result"
    }
   ],
   "source": [
    "wildfires_df.shape"
   ]
  },
  {
   "cell_type": "markdown",
   "metadata": {},
   "source": [
    "<span style=\"background-color: red;\">-</span> <span style=\"color:#666;background-color: lightyellow;font-size: 1.5em;\">Get a subset of columns from the full dataframe</span> "
   ]
  },
  {
   "cell_type": "code",
   "execution_count": 6,
   "metadata": {},
   "outputs": [],
   "source": [
    "df = wildfires_df[['FIRE_YEAR', 'DISCOVERY_DATE', 'DISCOVERY_DOY',\n",
    "       'STAT_CAUSE_DESCR', 'FIRE_SIZE', 'STATE', 'FIPS_CODE', 'FIPS_NAME', 'SHAPE']]"
   ]
  },
  {
   "cell_type": "markdown",
   "metadata": {},
   "source": [
    "<span style=\"background-color: red;\">-</span> <span style=\"color:#666;background-color: lightyellow;font-size: 1.5em;\">Just verifying that they are spatial dataframes (it's important below)</span>"
   ]
  },
  {
   "cell_type": "code",
   "execution_count": 7,
   "metadata": {},
   "outputs": [
    {
     "name": "stdout",
     "output_type": "stream",
     "text": [
      "True\n",
      "True\n"
     ]
    }
   ],
   "source": [
    "print(hasattr(wildfires_df, 'spatial'))\n",
    "print(hasattr(df, 'spatial'))"
   ]
  },
  {
   "cell_type": "markdown",
   "metadata": {},
   "source": [
    "<span style=\"background-color: red;\">-</span> <span style=\"color:#666;background-color: lightyellow;font-size: 1.5em;\">It can be helpful to explictly see what we're working with: list all of the fields (columns) in the dataframes (the full dataframe as well as the subset)</span>"
   ]
  },
  {
   "cell_type": "code",
   "execution_count": 8,
   "metadata": {},
   "outputs": [
    {
     "name": "stdout",
     "output_type": "stream",
     "text": [
      "['OBJECTID', 'FOD_ID', 'FPA_ID', 'SOURCE_SYSTEM_TYPE', 'SOURCE_SYSTEM', 'NWCG_REPORTING_AGENCY', 'NWCG_REPORTING_UNIT_ID', 'NWCG_REPORTING_UNIT_NAME', 'SOURCE_REPORTING_UNIT', 'SOURCE_REPORTING_UNIT_NAME', 'LOCAL_FIRE_REPORT_ID', 'LOCAL_INCIDENT_ID', 'FIRE_CODE', 'FIRE_NAME', 'ICS_209_INCIDENT_NUMBER', 'ICS_209_NAME', 'MTBS_ID', 'MTBS_FIRE_NAME', 'COMPLEX_NAME', 'FIRE_YEAR', 'DISCOVERY_DATE', 'DISCOVERY_DOY', 'DISCOVERY_TIME', 'STAT_CAUSE_CODE', 'STAT_CAUSE_DESCR', 'CONT_DATE', 'CONT_DOY', 'CONT_TIME', 'FIRE_SIZE', 'FIRE_SIZE_CLASS', 'LATITUDE', 'LONGITUDE', 'OWNER_CODE', 'OWNER_DESCR', 'STATE', 'COUNTY', 'FIPS_CODE', 'FIPS_NAME', 'SHAPE']\n"
     ]
    },
    {
     "data": {
      "text/html": [
       "<div>\n",
       "<style scoped>\n",
       "    .dataframe tbody tr th:only-of-type {\n",
       "        vertical-align: middle;\n",
       "    }\n",
       "\n",
       "    .dataframe tbody tr th {\n",
       "        vertical-align: top;\n",
       "    }\n",
       "\n",
       "    .dataframe thead th {\n",
       "        text-align: right;\n",
       "    }\n",
       "</style>\n",
       "<table border=\"1\" class=\"dataframe\">\n",
       "  <thead>\n",
       "    <tr style=\"text-align: right;\">\n",
       "      <th></th>\n",
       "      <th>OBJECTID</th>\n",
       "      <th>FOD_ID</th>\n",
       "      <th>FPA_ID</th>\n",
       "      <th>SOURCE_SYSTEM_TYPE</th>\n",
       "      <th>SOURCE_SYSTEM</th>\n",
       "      <th>NWCG_REPORTING_AGENCY</th>\n",
       "      <th>NWCG_REPORTING_UNIT_ID</th>\n",
       "      <th>NWCG_REPORTING_UNIT_NAME</th>\n",
       "      <th>SOURCE_REPORTING_UNIT</th>\n",
       "      <th>SOURCE_REPORTING_UNIT_NAME</th>\n",
       "      <th>...</th>\n",
       "      <th>FIRE_SIZE_CLASS</th>\n",
       "      <th>LATITUDE</th>\n",
       "      <th>LONGITUDE</th>\n",
       "      <th>OWNER_CODE</th>\n",
       "      <th>OWNER_DESCR</th>\n",
       "      <th>STATE</th>\n",
       "      <th>COUNTY</th>\n",
       "      <th>FIPS_CODE</th>\n",
       "      <th>FIPS_NAME</th>\n",
       "      <th>SHAPE</th>\n",
       "    </tr>\n",
       "  </thead>\n",
       "  <tbody>\n",
       "    <tr>\n",
       "      <th>0</th>\n",
       "      <td>1</td>\n",
       "      <td>1</td>\n",
       "      <td>FS-1418826</td>\n",
       "      <td>FED</td>\n",
       "      <td>FS-FIRESTAT</td>\n",
       "      <td>FS</td>\n",
       "      <td>USCAPNF</td>\n",
       "      <td>Plumas National Forest</td>\n",
       "      <td>0511</td>\n",
       "      <td>Plumas National Forest</td>\n",
       "      <td>...</td>\n",
       "      <td>A</td>\n",
       "      <td>40.036944</td>\n",
       "      <td>-121.005833</td>\n",
       "      <td>5</td>\n",
       "      <td>USFS</td>\n",
       "      <td>CA</td>\n",
       "      <td>63</td>\n",
       "      <td>063</td>\n",
       "      <td>Plumas</td>\n",
       "      <td>{\"x\": -121.00583333000003, \"y\": 40.03694443999...</td>\n",
       "    </tr>\n",
       "    <tr>\n",
       "      <th>1</th>\n",
       "      <td>2</td>\n",
       "      <td>2</td>\n",
       "      <td>FS-1418827</td>\n",
       "      <td>FED</td>\n",
       "      <td>FS-FIRESTAT</td>\n",
       "      <td>FS</td>\n",
       "      <td>USCAENF</td>\n",
       "      <td>Eldorado National Forest</td>\n",
       "      <td>0503</td>\n",
       "      <td>Eldorado National Forest</td>\n",
       "      <td>...</td>\n",
       "      <td>A</td>\n",
       "      <td>38.933056</td>\n",
       "      <td>-120.404444</td>\n",
       "      <td>5</td>\n",
       "      <td>USFS</td>\n",
       "      <td>CA</td>\n",
       "      <td>61</td>\n",
       "      <td>061</td>\n",
       "      <td>Placer</td>\n",
       "      <td>{\"x\": -120.40444444000002, \"y\": 38.93305556000...</td>\n",
       "    </tr>\n",
       "    <tr>\n",
       "      <th>2</th>\n",
       "      <td>3</td>\n",
       "      <td>3</td>\n",
       "      <td>FS-1418835</td>\n",
       "      <td>FED</td>\n",
       "      <td>FS-FIRESTAT</td>\n",
       "      <td>FS</td>\n",
       "      <td>USCAENF</td>\n",
       "      <td>Eldorado National Forest</td>\n",
       "      <td>0503</td>\n",
       "      <td>Eldorado National Forest</td>\n",
       "      <td>...</td>\n",
       "      <td>A</td>\n",
       "      <td>38.984167</td>\n",
       "      <td>-120.735556</td>\n",
       "      <td>13</td>\n",
       "      <td>STATE OR PRIVATE</td>\n",
       "      <td>CA</td>\n",
       "      <td>17</td>\n",
       "      <td>017</td>\n",
       "      <td>El Dorado</td>\n",
       "      <td>{\"x\": -120.73555555999997, \"y\": 38.98416666999...</td>\n",
       "    </tr>\n",
       "    <tr>\n",
       "      <th>3</th>\n",
       "      <td>4</td>\n",
       "      <td>4</td>\n",
       "      <td>FS-1418845</td>\n",
       "      <td>FED</td>\n",
       "      <td>FS-FIRESTAT</td>\n",
       "      <td>FS</td>\n",
       "      <td>USCAENF</td>\n",
       "      <td>Eldorado National Forest</td>\n",
       "      <td>0503</td>\n",
       "      <td>Eldorado National Forest</td>\n",
       "      <td>...</td>\n",
       "      <td>A</td>\n",
       "      <td>38.559167</td>\n",
       "      <td>-119.913333</td>\n",
       "      <td>5</td>\n",
       "      <td>USFS</td>\n",
       "      <td>CA</td>\n",
       "      <td>3</td>\n",
       "      <td>003</td>\n",
       "      <td>Alpine</td>\n",
       "      <td>{\"x\": -119.91333333, \"y\": 38.55916666999997, \"...</td>\n",
       "    </tr>\n",
       "    <tr>\n",
       "      <th>4</th>\n",
       "      <td>5</td>\n",
       "      <td>5</td>\n",
       "      <td>FS-1418847</td>\n",
       "      <td>FED</td>\n",
       "      <td>FS-FIRESTAT</td>\n",
       "      <td>FS</td>\n",
       "      <td>USCAENF</td>\n",
       "      <td>Eldorado National Forest</td>\n",
       "      <td>0503</td>\n",
       "      <td>Eldorado National Forest</td>\n",
       "      <td>...</td>\n",
       "      <td>A</td>\n",
       "      <td>38.559167</td>\n",
       "      <td>-119.933056</td>\n",
       "      <td>5</td>\n",
       "      <td>USFS</td>\n",
       "      <td>CA</td>\n",
       "      <td>3</td>\n",
       "      <td>003</td>\n",
       "      <td>Alpine</td>\n",
       "      <td>{\"x\": -119.93305555999996, \"y\": 38.55916666999...</td>\n",
       "    </tr>\n",
       "  </tbody>\n",
       "</table>\n",
       "<p>5 rows × 39 columns</p>\n",
       "</div>"
      ],
      "text/plain": [
       "   OBJECTID  FOD_ID      FPA_ID SOURCE_SYSTEM_TYPE SOURCE_SYSTEM  \\\n",
       "0         1       1  FS-1418826                FED   FS-FIRESTAT   \n",
       "1         2       2  FS-1418827                FED   FS-FIRESTAT   \n",
       "2         3       3  FS-1418835                FED   FS-FIRESTAT   \n",
       "3         4       4  FS-1418845                FED   FS-FIRESTAT   \n",
       "4         5       5  FS-1418847                FED   FS-FIRESTAT   \n",
       "\n",
       "  NWCG_REPORTING_AGENCY NWCG_REPORTING_UNIT_ID  NWCG_REPORTING_UNIT_NAME  \\\n",
       "0                    FS                USCAPNF    Plumas National Forest   \n",
       "1                    FS                USCAENF  Eldorado National Forest   \n",
       "2                    FS                USCAENF  Eldorado National Forest   \n",
       "3                    FS                USCAENF  Eldorado National Forest   \n",
       "4                    FS                USCAENF  Eldorado National Forest   \n",
       "\n",
       "  SOURCE_REPORTING_UNIT SOURCE_REPORTING_UNIT_NAME  ... FIRE_SIZE_CLASS  \\\n",
       "0                  0511     Plumas National Forest  ...               A   \n",
       "1                  0503   Eldorado National Forest  ...               A   \n",
       "2                  0503   Eldorado National Forest  ...               A   \n",
       "3                  0503   Eldorado National Forest  ...               A   \n",
       "4                  0503   Eldorado National Forest  ...               A   \n",
       "\n",
       "    LATITUDE   LONGITUDE OWNER_CODE       OWNER_DESCR STATE COUNTY FIPS_CODE  \\\n",
       "0  40.036944 -121.005833          5              USFS    CA     63       063   \n",
       "1  38.933056 -120.404444          5              USFS    CA     61       061   \n",
       "2  38.984167 -120.735556         13  STATE OR PRIVATE    CA     17       017   \n",
       "3  38.559167 -119.913333          5              USFS    CA      3       003   \n",
       "4  38.559167 -119.933056          5              USFS    CA      3       003   \n",
       "\n",
       "   FIPS_NAME                                              SHAPE  \n",
       "0     Plumas  {\"x\": -121.00583333000003, \"y\": 40.03694443999...  \n",
       "1     Placer  {\"x\": -120.40444444000002, \"y\": 38.93305556000...  \n",
       "2  El Dorado  {\"x\": -120.73555555999997, \"y\": 38.98416666999...  \n",
       "3     Alpine  {\"x\": -119.91333333, \"y\": 38.55916666999997, \"...  \n",
       "4     Alpine  {\"x\": -119.93305555999996, \"y\": 38.55916666999...  \n",
       "\n",
       "[5 rows x 39 columns]"
      ]
     },
     "execution_count": 8,
     "metadata": {},
     "output_type": "execute_result"
    }
   ],
   "source": [
    "print(wildfires_df.columns.tolist())\n",
    "wildfires_df.head()"
   ]
  },
  {
   "cell_type": "code",
   "execution_count": 11,
   "metadata": {},
   "outputs": [
    {
     "name": "stdout",
     "output_type": "stream",
     "text": [
      "['FIRE_YEAR', 'DISCOVERY_DATE', 'DISCOVERY_DOY', 'STAT_CAUSE_DESCR', 'FIRE_SIZE', 'STATE', 'FIPS_CODE', 'FIPS_NAME', 'SHAPE']\n"
     ]
    },
    {
     "data": {
      "text/html": [
       "<div>\n",
       "<style scoped>\n",
       "    .dataframe tbody tr th:only-of-type {\n",
       "        vertical-align: middle;\n",
       "    }\n",
       "\n",
       "    .dataframe tbody tr th {\n",
       "        vertical-align: top;\n",
       "    }\n",
       "\n",
       "    .dataframe thead th {\n",
       "        text-align: right;\n",
       "    }\n",
       "</style>\n",
       "<table border=\"1\" class=\"dataframe\">\n",
       "  <thead>\n",
       "    <tr style=\"text-align: right;\">\n",
       "      <th></th>\n",
       "      <th>FIRE_YEAR</th>\n",
       "      <th>DISCOVERY_DATE</th>\n",
       "      <th>DISCOVERY_DOY</th>\n",
       "      <th>STAT_CAUSE_DESCR</th>\n",
       "      <th>FIRE_SIZE</th>\n",
       "      <th>STATE</th>\n",
       "      <th>FIPS_CODE</th>\n",
       "      <th>FIPS_NAME</th>\n",
       "      <th>SHAPE</th>\n",
       "    </tr>\n",
       "  </thead>\n",
       "  <tbody>\n",
       "    <tr>\n",
       "      <th>0</th>\n",
       "      <td>2005</td>\n",
       "      <td>2005-02-02</td>\n",
       "      <td>33</td>\n",
       "      <td>Miscellaneous</td>\n",
       "      <td>0.1</td>\n",
       "      <td>CA</td>\n",
       "      <td>063</td>\n",
       "      <td>Plumas</td>\n",
       "      <td>{\"x\": -121.00583333000003, \"y\": 40.03694443999...</td>\n",
       "    </tr>\n",
       "    <tr>\n",
       "      <th>1</th>\n",
       "      <td>2004</td>\n",
       "      <td>2004-05-12</td>\n",
       "      <td>133</td>\n",
       "      <td>Lightning</td>\n",
       "      <td>0.25</td>\n",
       "      <td>CA</td>\n",
       "      <td>061</td>\n",
       "      <td>Placer</td>\n",
       "      <td>{\"x\": -120.40444444000002, \"y\": 38.93305556000...</td>\n",
       "    </tr>\n",
       "    <tr>\n",
       "      <th>2</th>\n",
       "      <td>2004</td>\n",
       "      <td>2004-05-31</td>\n",
       "      <td>152</td>\n",
       "      <td>Debris Burning</td>\n",
       "      <td>0.1</td>\n",
       "      <td>CA</td>\n",
       "      <td>017</td>\n",
       "      <td>El Dorado</td>\n",
       "      <td>{\"x\": -120.73555555999997, \"y\": 38.98416666999...</td>\n",
       "    </tr>\n",
       "    <tr>\n",
       "      <th>3</th>\n",
       "      <td>2004</td>\n",
       "      <td>2004-06-28</td>\n",
       "      <td>180</td>\n",
       "      <td>Lightning</td>\n",
       "      <td>0.1</td>\n",
       "      <td>CA</td>\n",
       "      <td>003</td>\n",
       "      <td>Alpine</td>\n",
       "      <td>{\"x\": -119.91333333, \"y\": 38.55916666999997, \"...</td>\n",
       "    </tr>\n",
       "    <tr>\n",
       "      <th>4</th>\n",
       "      <td>2004</td>\n",
       "      <td>2004-06-28</td>\n",
       "      <td>180</td>\n",
       "      <td>Lightning</td>\n",
       "      <td>0.1</td>\n",
       "      <td>CA</td>\n",
       "      <td>003</td>\n",
       "      <td>Alpine</td>\n",
       "      <td>{\"x\": -119.93305555999996, \"y\": 38.55916666999...</td>\n",
       "    </tr>\n",
       "  </tbody>\n",
       "</table>\n",
       "</div>"
      ],
      "text/plain": [
       "   FIRE_YEAR DISCOVERY_DATE  DISCOVERY_DOY STAT_CAUSE_DESCR  FIRE_SIZE STATE  \\\n",
       "0       2005     2005-02-02             33    Miscellaneous        0.1    CA   \n",
       "1       2004     2004-05-12            133        Lightning       0.25    CA   \n",
       "2       2004     2004-05-31            152   Debris Burning        0.1    CA   \n",
       "3       2004     2004-06-28            180        Lightning        0.1    CA   \n",
       "4       2004     2004-06-28            180        Lightning        0.1    CA   \n",
       "\n",
       "  FIPS_CODE  FIPS_NAME                                              SHAPE  \n",
       "0       063     Plumas  {\"x\": -121.00583333000003, \"y\": 40.03694443999...  \n",
       "1       061     Placer  {\"x\": -120.40444444000002, \"y\": 38.93305556000...  \n",
       "2       017  El Dorado  {\"x\": -120.73555555999997, \"y\": 38.98416666999...  \n",
       "3       003     Alpine  {\"x\": -119.91333333, \"y\": 38.55916666999997, \"...  \n",
       "4       003     Alpine  {\"x\": -119.93305555999996, \"y\": 38.55916666999...  "
      ]
     },
     "execution_count": 11,
     "metadata": {},
     "output_type": "execute_result"
    }
   ],
   "source": [
    "print(df.columns.tolist())\n",
    "df.head()"
   ]
  },
  {
   "cell_type": "markdown",
   "metadata": {},
   "source": [
    "<span style=\"background-color: red;\">-</span> <span style=\"color:#666;background-color: lightyellow;font-size: 1.5em;\">These lines were to troubleshoot an error related to datetime format that occurred below. Pro could not ingest the Pandas format. Here, get the datatype of each column to find which are `datetime`</span>"
   ]
  },
  {
   "cell_type": "code",
   "execution_count": 9,
   "metadata": {},
   "outputs": [
    {
     "name": "stdout",
     "output_type": "stream",
     "text": [
      "FIRE_YEAR                    Int32\n",
      "DISCOVERY_DATE      datetime64[us]\n",
      "DISCOVERY_DOY                Int32\n",
      "STAT_CAUSE_DESCR    string[python]\n",
      "FIRE_SIZE                  Float64\n",
      "STATE               string[python]\n",
      "FIPS_CODE           string[python]\n",
      "FIPS_NAME           string[python]\n",
      "SHAPE                     geometry\n",
      "dtype: object\n"
     ]
    }
   ],
   "source": [
    "# Print the data types of each column\n",
    "types = pd.DataFrame(df)\n",
    "print(types.dtypes)"
   ]
  },
  {
   "cell_type": "markdown",
   "metadata": {
    "heading_collapsed": true
   },
   "source": [
    "### Exploratory Data Analysis"
   ]
  },
  {
   "cell_type": "markdown",
   "metadata": {},
   "source": [
    "<span style=\"background-color: red;\">-</span> <span style=\"color:#666;background-color: lightyellow;font-size: 1.5em;\">This block needed to be modified by making an explicit copy first using `copy()` and changing the pandas datetime into a datetime format that ArcGIS can understand. Also, `smdf` needed to point to `df` (not `wildfires_df`) -- see the comment below.</span>"
   ]
  },
  {
   "cell_type": "code",
   "execution_count": 10,
   "metadata": {
    "hidden": true
   },
   "outputs": [],
   "source": [
    "## added this to make an explicit copy\n",
    "df = df.copy() # <= added this\n",
    "df['x'] = df.SHAPE.apply(lambda g: g['x'])\n",
    "df['y'] = df.SHAPE.apply(lambda g: g['y'])\n",
    "\n",
    "## added this line to make the pandas datetime ArcGIS Pro-friendly\n",
    "df['DISCOVERY_DATE_FORMATTED'] = df['DISCOVERY_DATE'].dt.strftime('%Y-%m-%d %H:%M:%S')\n",
    "\n",
    "## this had wildfires_df for some reason, producing errors because 'x' and 'y' are defined above for df, not wildfires_df\n",
    "smdf = df[['FIRE_YEAR', 'DISCOVERY_DATE', 'DISCOVERY_DOY',\n",
    "       'STAT_CAUSE_DESCR', 'FIRE_SIZE', 'STATE', 'FIPS_CODE', 'FIPS_NAME', 'x', 'y']]\n",
    "smdf.to_pickle('fires.pkl')"
   ]
  },
  {
   "cell_type": "markdown",
   "metadata": {},
   "source": [
    "<span style=\"background-color: red;\">-</span> <span style=\"color:#666;background-color: lightyellow;font-size: 1.5em;\">`.head()` returns the first five rows, just to verify that x and y have been added as expected."
   ]
  },
  {
   "cell_type": "code",
   "execution_count": 11,
   "metadata": {},
   "outputs": [
    {
     "name": "stdout",
     "output_type": "stream",
     "text": [
      "   FIRE_YEAR DISCOVERY_DATE  DISCOVERY_DOY STAT_CAUSE_DESCR  FIRE_SIZE STATE  \\\n",
      "0       2005     2005-02-02             33    Miscellaneous        0.1    CA   \n",
      "1       2004     2004-05-12            133        Lightning       0.25    CA   \n",
      "2       2004     2004-05-31            152   Debris Burning        0.1    CA   \n",
      "3       2004     2004-06-28            180        Lightning        0.1    CA   \n",
      "4       2004     2004-06-28            180        Lightning        0.1    CA   \n",
      "\n",
      "  FIPS_CODE  FIPS_NAME                                              SHAPE  \\\n",
      "0       063     Plumas  {\"x\": -121.00583333000003, \"y\": 40.03694443999...   \n",
      "1       061     Placer  {\"x\": -120.40444444000002, \"y\": 38.93305556000...   \n",
      "2       017  El Dorado  {\"x\": -120.73555555999997, \"y\": 38.98416666999...   \n",
      "3       003     Alpine  {\"x\": -119.91333333, \"y\": 38.55916666999997, \"...   \n",
      "4       003     Alpine  {\"x\": -119.93305555999996, \"y\": 38.55916666999...   \n",
      "\n",
      "            x          y DISCOVERY_DATE_FORMATTED  \n",
      "0 -121.005833  40.036944      2005-02-02 00:00:00  \n",
      "1 -120.404444  38.933056      2004-05-12 00:00:00  \n",
      "2 -120.735556  38.984167      2004-05-31 00:00:00  \n",
      "3 -119.913333  38.559167      2004-06-28 00:00:00  \n",
      "4 -119.933056  38.559167      2004-06-28 00:00:00  \n"
     ]
    }
   ],
   "source": [
    "print(df.head())"
   ]
  },
  {
   "cell_type": "markdown",
   "metadata": {},
   "source": [
    "<span style=\"background-color: red;\">-</span> <span style=\"color:#666;background-color: lightyellow;font-size: 1.5em;\">Print the columns to a list to make them easier to read.</span>"
   ]
  },
  {
   "cell_type": "code",
   "execution_count": 12,
   "metadata": {},
   "outputs": [
    {
     "name": "stdout",
     "output_type": "stream",
     "text": [
      "['FIRE_YEAR', 'DISCOVERY_DATE', 'DISCOVERY_DOY', 'STAT_CAUSE_DESCR', 'FIRE_SIZE', 'STATE', 'FIPS_CODE', 'FIPS_NAME', 'SHAPE', 'x', 'y', 'DISCOVERY_DATE_FORMATTED']\n"
     ]
    }
   ],
   "source": [
    "columns_list = df.columns.tolist()\n",
    "print(columns_list)"
   ]
  },
  {
   "cell_type": "code",
   "execution_count": 13,
   "metadata": {
    "hidden": true
   },
   "outputs": [],
   "source": [
    "pd.options.mode.chained_assignment = None \n",
    "\n",
    "df['MONTH'] = pd.DatetimeIndex(df['DISCOVERY_DATE']).month\n",
    "df['DAY_OF_WEEK'] = df['DISCOVERY_DATE'].dt.dayofweek\n",
    "df_arson = df[df['STAT_CAUSE_DESCR']=='Arson']\n",
    "dfa = df_arson['DAY_OF_WEEK'].value_counts()\n",
    "df_lightning = df[df['STAT_CAUSE_DESCR']=='Lightning']\n",
    "dfl = df_lightning['DAY_OF_WEEK'].value_counts()"
   ]
  },
  {
   "cell_type": "code",
   "execution_count": 14,
   "metadata": {
    "hidden": true
   },
   "outputs": [],
   "source": [
    "%matplotlib inline\n",
    "import matplotlib.pyplot as plt\n",
    "\n",
    "plt.style.use('ggplot')\n",
    "sorted_df = df.sort_values('FIRE_YEAR')\n",
    "fire_freq = sorted_df.groupby('FIRE_YEAR').count()\n",
    "x = np.asarray(fire_freq.axes[0])\n",
    "y = np.asarray(df.groupby('FIRE_YEAR').size())"
   ]
  },
  {
   "cell_type": "markdown",
   "metadata": {},
   "source": [
    "<span style=\"background-color: red;\">-</span> <span style=\"color:#666;background-color: lightyellow;font-size: 1.5em;\">This works but the sample content (_Demographic Profile_\n",
    "Feature Layer Collection from 2018) doesn't exist in 2025 so this code just demonstrates how to return a keyword search of the ArcGIS Online deldev.maps organization's Content. (Current results are irrelevant to the fires analysis.)</span>"
   ]
  },
  {
   "cell_type": "code",
   "execution_count": 18,
   "metadata": {
    "hidden": true
   },
   "outputs": [
    {
     "data": {
      "text/html": [
       "<div class=\"item_container\" style=\"height: auto; overflow: hidden; border: 1px solid #cfcfcf; border-radius: 2px; background: #f6fafa; line-height: 1.21429em; padding: 10px;\">\n",
       "                    <div class=\"item_left\" style=\"width: 210px; float: left;\">\n",
       "                       <a href='https://www.arcgis.com/home/item.html?id=aafc3e3d7f4a41a9b9fe7a6c36945d92' target='_blank'>\n",
       "                        <img src='https://www.arcgis.com/sharing/rest//content/items/aafc3e3d7f4a41a9b9fe7a6c36945d92/info/thumbnail/thumbnail.png' class=\"itemThumbnail\">\n",
       "                       </a>\n",
       "                    </div>\n",
       "\n",
       "                    <div class=\"item_right\"     style=\"float: none; width: auto; overflow: hidden;\">\n",
       "                        <a href='https://www.arcgis.com/home/item.html?id=aafc3e3d7f4a41a9b9fe7a6c36945d92' target='_blank'><b>Profiles of Congressional Districts (115th Congress)</b>\n",
       "                        </a>\n",
       "                        <br/>Compare the characteristics of congressional districts to the characteristics of their states.<br/><img src='https://www.arcgis.com/home/js/arcgisonline/img/item-types/apps16.svg' style=\"vertical-align:middle;\" width=16 height=16>Web Mapping Application by dianaclavery_uo\n",
       "                        <br/>Last Modified: May 20, 2019\n",
       "                        <br/>0 comments, 1,358 views\n",
       "                    </div>\n",
       "                </div>\n",
       "                "
      ],
      "text/plain": [
       "<Item title:\"Profiles of Congressional Districts (115th Congress)\" type:Web Mapping Application owner:dianaclavery_uo>"
      ]
     },
     "execution_count": 18,
     "metadata": {},
     "output_type": "execute_result"
    }
   ],
   "source": [
    "lyr = gis.content.search('Demographic Profile')[0]\n",
    "lyr"
   ]
  },
  {
   "cell_type": "markdown",
   "metadata": {
    "heading_collapsed": true
   },
   "source": [
    "### Have wildfires become more frequent over time?"
   ]
  },
  {
   "cell_type": "markdown",
   "metadata": {},
   "source": [
    "<span style=\"background-color: red;\">-</span> <span style=\"color:#666;background-color: lightyellow;font-size: 1.5em;\">This block was failing because `x` was the wrong datatype. Modified code converts `x` to the `int64` datatype and then just prints out the datatype (`dtype`) to verify that the conversion worked as expected</span>"
   ]
  },
  {
   "cell_type": "code",
   "execution_count": 15,
   "metadata": {
    "hidden": true
   },
   "outputs": [
    {
     "name": "stdout",
     "output_type": "stream",
     "text": [
      "<class 'numpy.ndarray'> <class 'numpy.ndarray'>\n",
      "int64 int64\n"
     ]
    },
    {
     "data": {
      "image/png": "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",
      "text/plain": [
       "<Figure size 1000x600 with 1 Axes>"
      ]
     },
     "metadata": {},
     "output_type": "display_data"
    }
   ],
   "source": [
    "fig, ax = plt.subplots(figsize=(10,6))\n",
    "ax.bar(x.astype(np.int64), y, color='coral')\n",
    "print(type(x), type(y))\n",
    "print(x.astype(np.int64).dtype, y.dtype)\n",
    "plt.title('Number of fires by year', y=-0.2)\n",
    "fit1 = np.polyfit(x.astype(np.int64), y, deg=1)\n",
    "ax.plot(x.astype(np.int64), x*fit1[0] + fit1[1], color='teal', linewidth=4);"
   ]
  },
  {
   "cell_type": "markdown",
   "metadata": {
    "heading_collapsed": true
   },
   "source": [
    "### What are the causes of wildfire?"
   ]
  },
  {
   "cell_type": "code",
   "execution_count": 16,
   "metadata": {
    "hidden": true
   },
   "outputs": [],
   "source": [
    "distribution = df['STAT_CAUSE_DESCR'].value_counts()"
   ]
  },
  {
   "cell_type": "code",
   "execution_count": 17,
   "metadata": {
    "hidden": true
   },
   "outputs": [
    {
     "data": {
      "image/png": "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",
      "text/plain": [
       "<Figure size 600x600 with 1 Axes>"
      ]
     },
     "metadata": {},
     "output_type": "display_data"
    }
   ],
   "source": [
    "plt.figure(figsize=(6,6))\n",
    "plt.title('Distribution by cause', y=-0.15)\n",
    "plt.pie(distribution, labels=list(distribution.index[:-2]) + ['', '']);\n",
    "plt.axis('equal');"
   ]
  },
  {
   "cell_type": "markdown",
   "metadata": {
    "heading_collapsed": true
   },
   "source": [
    "### Does the day of week matter?"
   ]
  },
  {
   "cell_type": "markdown",
   "metadata": {},
   "source": [
    "<span style=\"background-color: red;\">-</span> <span style=\"color:#666;background-color: lightyellow;font-size: 1.5em;\">This code needed to be modified by importing FixedLocator and FixedFormatter</span>"
   ]
  },
  {
   "cell_type": "code",
   "execution_count": 18,
   "metadata": {
    "hidden": true
   },
   "outputs": [
    {
     "data": {
      "image/png": "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",
      "text/plain": [
       "<Figure size 1000x600 with 1 Axes>"
      ]
     },
     "metadata": {},
     "output_type": "display_data"
    }
   ],
   "source": [
    "from matplotlib.ticker import FixedLocator, FixedFormatter # <= added this line\n",
    "\n",
    "ind = np.arange(7) \n",
    "width = 0.35       \n",
    "\n",
    "fig, ax   = plt.subplots(figsize=(10,6))\n",
    "arson     = ax.bar(ind, dfa.sort_index(), width, color='coral')\n",
    "lightning = ax.bar(ind + width, dfl.sort_index(), width, color='teal')\n",
    "\n",
    "ax.set_title('Wildfires by day of week', y=-0.15)\n",
    "ax.xaxis.set_major_locator(FixedLocator([0, 1, 2, 3, 4, 5, 6,7])) # <= added this line\n",
    "\n",
    "ax.set_xticklabels(('', 'Mon', 'Tues', 'Wed', 'Thu', 'Fri', 'Sat', 'Sun'))\n",
    "ax.legend((arson[0], lightning[0]), ('Arson', 'Lightning'), loc=2);"
   ]
  },
  {
   "cell_type": "markdown",
   "metadata": {
    "heading_collapsed": true
   },
   "source": [
    "## Mapping and Spatial Analysis"
   ]
  },
  {
   "cell_type": "markdown",
   "metadata": {},
   "source": [
    "<span style=\"background-color: red;\">-</span> <span style=\"color:#666;background-color: lightyellow;font-size: 1.5em;\">This modified code is creating a filter on the dataframe and then just verifying that it is still a _spatial_ dataframe.</span>"
   ]
  },
  {
   "cell_type": "code",
   "execution_count": 19,
   "metadata": {},
   "outputs": [],
   "source": [
    "## apply a simple filter to the dataframe, getting just the first few fires from TN\n",
    "filtered_sdf = df[df['STATE'] == 'TN'].head()\n",
    "\n",
    "## remove the discovery_date field since it Pro can't handle it\n",
    "filtered_sdf = filtered_sdf[['FIRE_YEAR', 'DISCOVERY_DATE_FORMATTED', 'DISCOVERY_DOY',\n",
    "       'STAT_CAUSE_DESCR', 'FIRE_SIZE', 'STATE', 'FIPS_CODE', 'FIPS_NAME','SHAPE', 'x', 'y']]\n"
   ]
  },
  {
   "cell_type": "markdown",
   "metadata": {},
   "source": [
    "<span style=\"background-color: red;\">-</span> <span style=\"color:#666;background-color: lightyellow;font-size: 1.5em;\">Convert the filtered dataframe (TN fires) back to a feature class, saved locally</span>"
   ]
  },
  {
   "cell_type": "code",
   "execution_count": 20,
   "metadata": {},
   "outputs": [
    {
     "data": {
      "text/plain": [
       "'C:\\\\Users\\\\vboxuser\\\\Documents\\\\ArcGIS\\\\Projects\\\\MyProject\\\\tn_wildfires.shp'"
      ]
     },
     "execution_count": 20,
     "metadata": {},
     "output_type": "execute_result"
    }
   ],
   "source": [
    "fc = r\"C:\\Users\\vboxuser\\Documents\\ArcGIS\\Projects\\MyProject\\tn_wildfires.shp\"\n",
    "filtered_sdf.spatial.to_featureclass(location=fc)"
   ]
  },
  {
   "cell_type": "markdown",
   "metadata": {},
   "source": [
    "<span style=\"background-color: red;\">-</span> <span style=\"color:#666;background-color: lightyellow;font-size: 1.5em;\">Add this new feature class to a map in an ArcGIS Pro project</span>"
   ]
  },
  {
   "cell_type": "code",
   "execution_count": 21,
   "metadata": {},
   "outputs": [
    {
     "data": {
      "text/plain": [
       "<arcpy._mp.Layer at 0x20d3efe9650>"
      ]
     },
     "execution_count": 21,
     "metadata": {},
     "output_type": "execute_result"
    }
   ],
   "source": [
    "aprx = arcpy.mp.ArcGISProject(r\"C:\\Users\\vboxuser\\Documents\\ArcGIS\\Projects\\MyProject\\MyProject.aprx\")\n",
    "m = aprx.listMaps()[0]\n",
    "m.addDataFromPath(fc)"
   ]
  },
  {
   "cell_type": "markdown",
   "metadata": {},
   "source": [
    "<span style=\"background-color: red;\">-</span> <span style=\"color:#666;background-color: lightyellow;font-size: 1.5em;\">Then add this data as a new layer in Pro (may require that Pro is closed)</span>"
   ]
  },
  {
   "cell_type": "code",
   "execution_count": 22,
   "metadata": {
    "scrolled": true
   },
   "outputs": [],
   "source": [
    "new_lyr_name = 'tn_wildfires_py'\n",
    "new_lyr = arcpy.MakeFeatureLayer_management(fc,new_lyr_name).getOutput(0)\n",
    "m.addLayer(new_lyr, \"TOP\")\n",
    "aprx.save()"
   ]
  },
  {
   "cell_type": "markdown",
   "metadata": {},
   "source": [
    "<span style=\"background-color: red;\">-</span> <span style=\"color:#666;background-color: lightyellow;font-size: 1.5em;\">As a baby step towards replicating a hotspot analysis in Pro, this block creates a 20 mile buffer around the TN fires.</span>"
   ]
  },
  {
   "cell_type": "code",
   "execution_count": 24,
   "metadata": {},
   "outputs": [],
   "source": [
    "out_fc = r\"C:\\Users\\vboxuser\\Documents\\ArcGIS\\Projects\\MyProject\\MyProject.gdb\\new_layer_test_Buffer\"\n",
    "m = aprx.listMaps()[0]\n",
    "m.addDataFromPath(fc)\n",
    "arcpy.analysis.Buffer(\n",
    "    in_features=new_lyr_name,\n",
    "    out_feature_class=out_fc,\n",
    "    buffer_distance_or_field=\"20 Miles\",\n",
    "    line_side=\"FULL\",\n",
    "    line_end_type=\"ROUND\",\n",
    "    dissolve_option=\"ALL\",\n",
    "    dissolve_field=None,\n",
    "    method=\"PLANAR\"\n",
    ")\n",
    "\n",
    "new_buffer_lyr = arcpy.MakeFeatureLayer_management(out_fc,'new_layer_test_Buffer').getOutput(0)\n",
    "m.addLayer(new_buffer_lyr, \"TOP\")\n",
    "aprx.save()"
   ]
  },
  {
   "attachments": {
    "63f0e0ab-eafb-49a7-b307-48afcc103e48.png": {
     "image/png": "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"
    }
   },
   "cell_type": "markdown",
   "metadata": {},
   "source": [
    "<span style=\"background-color: red;\">-</span> <span style=\"color:#666;background-color: lightyellow;font-size: 1.5em;\">The new later is added to the Pro map (screenshot below).</span><br />\n",
    "<!-- <img src=\"attachment:63f0e0ab-eafb-49a7-b307-48afcc103e48.png\" width=\"75%\"/> -->"
	"<img src=\"attachment:images/Screenshot 2025-06-03 161906.png\" width=\"75%\"/>"
   ]
  },
  {
   "cell_type": "markdown",
   "metadata": {},
   "source": [
    " \n",
    "<span style=\"background-color: red;\">-</span> <span style=\"color:#666;background-color: lightyellow;font-size: 1.5em;\">This concludes the workflow test! (Note: the Pro project has become read only through the GUI.)</span><br />\n",
    "<span style=\"background-color: red;\">-</span> <span style=\"color:#666;background-color: lightyellow;font-size: 1.5em;\">Bypassing further analyses done in AGOL (leaving them here but commenting them out)</span>"
   ]
  },
  {
   "cell_type": "code",
   "execution_count": 37,
   "metadata": {
    "hidden": true
   },
   "outputs": [],
   "source": [
    "#wildfires = gis.content.import_data(wildfires_df.head(1)) # <= get this into pro instead of agol pandas spatial df export to pro to_featureclass"
   ]
  },
  {
   "cell_type": "code",
   "execution_count": 36,
   "metadata": {
    "hidden": true
   },
   "outputs": [],
   "source": [
    "#from arcgis.features.analysis import find_hot_spots\n",
    "#hotspots = find_hot_spots(wildfires, 20, 'Miles', output_name='Hot Spots US_Historical_Wildfires_20')"
   ]
  },
  {
   "cell_type": "code",
   "execution_count": 75,
   "metadata": {
    "hidden": true
   },
   "outputs": [],
   "source": [
    "#hotspots = gis.content.get('8f9e60e114c749a9864e4adb9643d096')"
   ]
  },
  {
   "cell_type": "code",
   "execution_count": 76,
   "metadata": {
    "hidden": true
   },
   "outputs": [
    {
     "data": {
      "application/vnd.jupyter.widget-view+json": {
       "model_id": "02e919f5abcc4cdd8972fb1538f97d38",
       "version_major": 2,
       "version_minor": 1
      },
      "text/plain": [
       "Map(center=[4778944.360468395, -11066784.785637997], extent={'xmin': -16196386.92139204, 'ymin': -745449.92509…"
      ]
     },
     "execution_count": 76,
     "metadata": {},
     "output_type": "execute_result"
    }
   ],
   "source": [
    "#usmap = gis.map('United States')\n",
    "#usmap.content.add(hotspots)\n",
    "#usmap"
   ]
  },
  {
   "cell_type": "markdown",
   "metadata": {
    "heading_collapsed": true
   },
   "source": [
    "## Can Machine Learning categorize the cause of the fire?\n",
    "\n",
    "Since **arson** is a significant preventable cause for many wildfires, it would be instructive to see if Machine Learning techniques can be used to classify if a fire was caused due to arson given some basic data that is available when the fire is first discovered or when investigations begin. This can be framed as a **binary classification** problem.\n",
    "\n",
    "Such a technique could give investigators a data driven way to prioritize cases for further investigation."
   ]
  },
  {
   "cell_type": "code",
   "execution_count": 25,
   "metadata": {
    "hidden": true
   },
   "outputs": [],
   "source": [
    "'''\n",
    "from sklearn.model_selection import train_test_split\n",
    "from sklearn import tree, preprocessing\n",
    "import sklearn.ensemble as ske\n",
    "import pandas as pd\n",
    "import matplotlib.pyplot as plt\n",
    "\n",
    "%matplotlib inline\n",
    "%config IPCompleter.greedy=True\n",
    "'''"
   ]
  },
  {
   "cell_type": "code",
   "execution_count": 29,
   "metadata": {
    "hidden": true
   },
   "outputs": [],
   "source": [
    "'''\n",
    "df = pd.read_pickle('fires.pkl')\n",
    "\n",
    "df['MONTH'] = pd.DatetimeIndex(df['DISCOVERY_DATE']).month\n",
    "df['DAY_OF_WEEK'] = wildfires_df['DISCOVERY_DATE'].dt.dayofweek # TODO\n",
    "\n",
    "ca_fires = df[df.STATE=='TN']\n",
    "ca_fires['ARSON'] = ca_fires['STAT_CAUSE_DESCR'].apply(lambda x: 1 if x == 'Arson' else 0) \n",
    "\n",
    "pdf = tn_fires[ ['FIRE_YEAR', 'DISCOVERY_DOY', 'FIPS_CODE', 'FIRE_SIZE', 'x', 'y', 'MONTH', 'DAY_OF_WEEK', 'ARSON'] ]\n",
    "pdf = pdf.dropna()\n",
    "'''"
   ]
  },
  {
   "cell_type": "markdown",
   "metadata": {
    "hidden": true
   },
   "source": [
    "### Feature Engineering: Use geoenrichment to add features"
   ]
  },
  {
   "cell_type": "markdown",
   "metadata": {},
   "source": [
    "> **Note:** Organizations should review the [data attributions](https://www.esri.com/en-us/legal/terms/data-attributions) and [Master Agreement](https://www.esri.com/content/dam/esrisites/en-us/media/legal/ma-full/ma-full.pdf) to make sure they are in compliance when geoenriching data and making it available to other systems."
   ]
  },
  {
   "cell_type": "code",
   "execution_count": 27,
   "metadata": {
    "hidden": true
   },
   "outputs": [],
   "source": [
    "''' analysis_variables = [\n",
    "    'TOTPOP_CY',  # 2016 Population: Total Population (Esri)\n",
    "    'HHPOP_CY',   # 2016 Household Population (Esri)\n",
    "    'FAMPOP_CY',  # 2016 Family Population (Esri)\n",
    "    'DIVINDX_CY', # 2016 Diversity Index (Esri)\n",
    "    'TOTHH_CY',   # 2016 Total Households (Esri)\n",
    "    'AVGHHSZ_CY', # 2016 Average Household Size (Esri)\n",
    "\n",
    "    'MALES_CY',   # 2016 Gender: Male Population (Esri)\n",
    "    'FEMALES_CY', # 2016 Gender: Female Population (Esri)\n",
    "    \n",
    "    'MEDAGE_CY',  # 2016 Age: Median Age (Esri)\n",
    "    \n",
    "    'AVGFMSZ_CY', # 2016 Income: Average Family Size (Esri)\n",
    "    'MEDHINC_CY', # 2016 Income: Median Household Income (Esri)\n",
    "    'AVGHINC_CY', # 2016 Income: Average Household Income (Esri)\n",
    "        \n",
    "    'EDUCBASECY', # 2016 Educational Attainment Base (Esri)\n",
    "    'NOHS_CY',    # 2016 Education: Less than 9th Grade (Esri)\n",
    "    'SOMEHS_CY',  # 2016 Education: 9-12th Grade/No Diploma (Esri)\n",
    "    'HSGRAD_CY',  # 2016 Education: High School Diploma (Esri)\n",
    "    'GED_CY',     # 2016 Education: GED/Alternative Credential (Esri)\n",
    "    'SMCOLL_CY',  # 2016 Education: Some College/No Degree (Esri)\n",
    "    'ASSCDEG_CY', # 2016 Education: Associate's Degree (Esri)\n",
    "    'BACHDEG_CY', # 2016 Education: Bachelor's Degree (Esri)\n",
    "]\n",
    "'''"
   ]
  },
  {
   "cell_type": "code",
   "execution_count": 30,
   "metadata": {
    "hidden": true
   },
   "outputs": [
    {
     "data": {
      "text/plain": [
       "\"\\nfrom arcgis.geoenrichment import *\\n\\nusa = Country.get('US')\\ncounties = usa.subgeographies.states['Tennessee'].counties\\n\\nenrich_df = enrich(list(counties.values()), analysis_variables=analysis_variables)\\n\\npdf['StdGeographyID'] = '06' + pdf['FIPS_CODE']\\nmerged = pd.merge(pdf, enrich_df, on='StdGeographyID')\\ncols = ['FIRE_YEAR', 'DISCOVERY_DOY', 'FIPS_CODE', 'FIRE_SIZE', 'x', 'y', 'MONTH', 'DAY_OF_WEEK', 'ARSON'] + analysis_variables\\nmdf = merged[cols]\\n\\nmdf.head()\\n\""
      ]
     },
     "execution_count": 30,
     "metadata": {},
     "output_type": "execute_result"
    }
   ],
   "source": [
    "'''\n",
    "from arcgis.geoenrichment import *\n",
    "\n",
    "usa = Country.get('US')\n",
    "counties = usa.subgeographies.states['California'].counties\n",
    "\n",
    "enrich_df = enrich(list(counties.values()), analysis_variables=analysis_variables)\n",
    "\n",
    "pdf['StdGeographyID'] = '06' + pdf['FIPS_CODE']\n",
    "merged = pd.merge(pdf, enrich_df, on='StdGeographyID')\n",
    "cols = ['FIRE_YEAR', 'DISCOVERY_DOY', 'FIPS_CODE', 'FIRE_SIZE', 'x', 'y', 'MONTH', 'DAY_OF_WEEK', 'ARSON'] + analysis_variables\n",
    "mdf = merged[cols]\n",
    "\n",
    "mdf.head()\n",
    "'''"
   ]
  },
  {
   "cell_type": "code",
   "execution_count": 48,
   "metadata": {
    "hidden": true
   },
   "outputs": [
    {
     "data": {
      "application/vnd.jupyter.widget-view+json": {
       "model_id": "0a5ea36ab6f5421f83dee90c547617d0",
       "version_major": 2,
       "version_minor": 1
      },
      "text/plain": [
       "Map(center=[4352220.592523982, -13277101.270396618], extent={'xmin': -13829023.30574967, 'ymin': 3686907.11575…"
      ]
     },
     "execution_count": 48,
     "metadata": {},
     "output_type": "execute_result"
    }
   ],
   "source": [
    "# m = gis.map('California')\n",
    "# m "
   ]
  },
  {
   "cell_type": "code",
   "execution_count": 32,
   "metadata": {
    "hidden": true
   },
   "outputs": [],
   "source": [
    "# lyr = gis.content.import_data(enrich_df, title='Demographic Profile')"
   ]
  },
  {
   "cell_type": "code",
   "execution_count": 33,
   "metadata": {
    "hidden": true
   },
   "outputs": [],
   "source": [
    "# m.content.add(lyr)"
   ]
  },
  {
   "cell_type": "code",
   "execution_count": 34,
   "metadata": {},
   "outputs": [],
   "source": [
    "# smm = m.content.renderers(0).smart_mapping()\n",
    "# smm.class_breaks_renderer(break_type=\"color\", field=\"AVGHINC_CY\", classification_method=\"quantile\", num_classes=5)"
   ]
  },
  {
   "cell_type": "markdown",
   "metadata": {
    "hidden": true
   },
   "source": [
    "### Fit Random Forest classifier and check accuracy"
   ]
  },
  {
   "cell_type": "code",
   "execution_count": 36,
   "metadata": {
    "hidden": true
   },
   "outputs": [
    {
     "data": {
      "text/plain": [
       "\"\\nX = mdf.drop(['ARSON'], axis=1).values\\ny = mdf['ARSON'].values\\nX_train, X_test, y_train, y_test = train_test_split(X,y,test_size=0.3, random_state=42)\\n\\nclf_rf = ske.RandomForestClassifier(n_estimators=200)\\nclf_rf = clf_rf.fit(X_train, y_train)\\n\\nprint(clf_rf.score(X_test, y_test))\\n\""
      ]
     },
     "execution_count": 36,
     "metadata": {},
     "output_type": "execute_result"
    }
   ],
   "source": [
    "'''\n",
    "X = mdf.drop(['ARSON'], axis=1).values\n",
    "y = mdf['ARSON'].values\n",
    "X_train, X_test, y_train, y_test = train_test_split(X,y,test_size=0.3, random_state=42)\n",
    "\n",
    "clf_rf = ske.RandomForestClassifier(n_estimators=200)\n",
    "clf_rf = clf_rf.fit(X_train, y_train)\n",
    "\n",
    "print(clf_rf.score(X_test, y_test))\n",
    "'''"
   ]
  },
  {
   "cell_type": "markdown",
   "metadata": {
    "hidden": true
   },
   "source": [
    "Summary: Given some basic data, available when a fire is first discovered, it is possible to predict with over 90% accuracy if the fire was the result of arson."
   ]
  },
  {
   "cell_type": "markdown",
   "metadata": {
    "hidden": true
   },
   "source": [
    "\n",
    "**Citations**\n",
    "\n",
    "Short, Karen C. 2017. Spatial wildfire occurrence data for the United States, 1992-2015 [FPA_FOD_20170508]. 4th Edition. Fort Collins, CO: Forest Service Research Data Archive. https://doi.org/10.2737/RDS-2013-0009.4"
   ]
  }
 ],
 "metadata": {
  "anaconda-cloud": {},
  "esriNotebookRuntime": {
   "notebookRuntimeName": "ArcGIS Notebook Python 3 Standard",
   "notebookRuntimeVersion": "5.0"
  },
  "kernelspec": {
   "display_name": "Python [conda env:conda-arcgispro-py3-clone]",
   "language": "python",
   "name": "conda-env-conda-arcgispro-py3-clone-py"
  },
  "language_info": {
   "codemirror_mode": {
    "name": "ipython",
    "version": 3
   },
   "file_extension": ".py",
   "mimetype": "text/x-python",
   "name": "python",
   "nbconvert_exporter": "python",
   "pygments_lexer": "ipython3",
   "version": "3.11.10"
  },
  "toc": {
   "base_numbering": 1,
   "nav_menu": {},
   "number_sections": true,
   "sideBar": true,
   "skip_h1_title": false,
   "title_cell": "Table of Contents",
   "title_sidebar": "Contents",
   "toc_cell": true,
   "toc_position": {},
   "toc_section_display": true,
   "toc_window_display": true
  }
 },
 "nbformat": 4,
 "nbformat_minor": 4
}
